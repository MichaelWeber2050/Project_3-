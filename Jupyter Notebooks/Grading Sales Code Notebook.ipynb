{
 "cells": [
  {
   "cell_type": "code",
   "execution_count": 51,
   "metadata": {},
   "outputs": [],
   "source": [
    "import pandas as pd\n",
    "import numpy as np\n",
    "import matplotlib.pyplot as plt\n",
    "import seaborn as sns\n",
    "\n",
    "from sklearn import svm, ensemble, linear_model, neighbors, naive_bayes\n",
    "from sklearn import datasets\n",
    "from sklearn.neighbors import KNeighborsClassifier\n",
    "from sklearn.linear_model import LogisticRegression\n",
    "from sklearn.model_selection import train_test_split\n",
    "from sklearn.metrics import precision_score, recall_score, precision_recall_curve, f1_score, fbeta_score\n",
    "\n",
    "from sklearn import model_selection\n",
    "from sklearn import linear_model, svm, naive_bayes, neighbors, ensemble\n",
    "from xgboost import XGBClassifier\n",
    "from sklearn.metrics import accuracy_score, confusion_matrix\n",
    "from sklearn.metrics import roc_auc_score, roc_curve"
   ]
  },
  {
   "cell_type": "code",
   "execution_count": 9,
   "metadata": {},
   "outputs": [
    {
     "data": {
      "text/html": [
       "<div>\n",
       "<style scoped>\n",
       "    .dataframe tbody tr th:only-of-type {\n",
       "        vertical-align: middle;\n",
       "    }\n",
       "\n",
       "    .dataframe tbody tr th {\n",
       "        vertical-align: top;\n",
       "    }\n",
       "\n",
       "    .dataframe thead th {\n",
       "        text-align: right;\n",
       "    }\n",
       "</style>\n",
       "<table border=\"1\" class=\"dataframe\">\n",
       "  <thead>\n",
       "    <tr style=\"text-align: right;\">\n",
       "      <th></th>\n",
       "      <th>Opportunity Number</th>\n",
       "      <th>Supplies Subgroup</th>\n",
       "      <th>Supplies Group</th>\n",
       "      <th>Region</th>\n",
       "      <th>Route To Market</th>\n",
       "      <th>Elapsed Days In Sales Stage</th>\n",
       "      <th>Opportunity Result</th>\n",
       "      <th>Sales Stage Change Count</th>\n",
       "      <th>Total Days Identified Through Closing</th>\n",
       "      <th>Total Days Identified Through Qualified</th>\n",
       "      <th>Opportunity Amount USD</th>\n",
       "      <th>Client Size By Revenue</th>\n",
       "      <th>Client Size By Employee Count</th>\n",
       "      <th>Revenue From Client Past Two Years</th>\n",
       "      <th>Competitor Type</th>\n",
       "      <th>Ratio Days Identified To Total Days</th>\n",
       "      <th>Ratio Days Validated To Total Days</th>\n",
       "      <th>Ratio Days Qualified To Total Days</th>\n",
       "      <th>Deal Size Category</th>\n",
       "    </tr>\n",
       "  </thead>\n",
       "  <tbody>\n",
       "    <tr>\n",
       "      <th>0</th>\n",
       "      <td>1641984</td>\n",
       "      <td>Exterior Accessories</td>\n",
       "      <td>Car Accessories</td>\n",
       "      <td>Northwest</td>\n",
       "      <td>Fields Sales</td>\n",
       "      <td>76</td>\n",
       "      <td>Won</td>\n",
       "      <td>13</td>\n",
       "      <td>104</td>\n",
       "      <td>101</td>\n",
       "      <td>0</td>\n",
       "      <td>5</td>\n",
       "      <td>5</td>\n",
       "      <td>0</td>\n",
       "      <td>Unknown</td>\n",
       "      <td>0.69636</td>\n",
       "      <td>0.113985</td>\n",
       "      <td>0.154215</td>\n",
       "      <td>1</td>\n",
       "    </tr>\n",
       "    <tr>\n",
       "      <th>1</th>\n",
       "      <td>1658010</td>\n",
       "      <td>Exterior Accessories</td>\n",
       "      <td>Car Accessories</td>\n",
       "      <td>Pacific</td>\n",
       "      <td>Reseller</td>\n",
       "      <td>63</td>\n",
       "      <td>Loss</td>\n",
       "      <td>2</td>\n",
       "      <td>163</td>\n",
       "      <td>163</td>\n",
       "      <td>0</td>\n",
       "      <td>3</td>\n",
       "      <td>5</td>\n",
       "      <td>0</td>\n",
       "      <td>Unknown</td>\n",
       "      <td>0.00000</td>\n",
       "      <td>1.000000</td>\n",
       "      <td>0.000000</td>\n",
       "      <td>1</td>\n",
       "    </tr>\n",
       "    <tr>\n",
       "      <th>2</th>\n",
       "      <td>1674737</td>\n",
       "      <td>Motorcycle Parts</td>\n",
       "      <td>Performance &amp; Non-auto</td>\n",
       "      <td>Pacific</td>\n",
       "      <td>Reseller</td>\n",
       "      <td>24</td>\n",
       "      <td>Won</td>\n",
       "      <td>7</td>\n",
       "      <td>82</td>\n",
       "      <td>82</td>\n",
       "      <td>7750</td>\n",
       "      <td>1</td>\n",
       "      <td>1</td>\n",
       "      <td>0</td>\n",
       "      <td>Unknown</td>\n",
       "      <td>1.00000</td>\n",
       "      <td>0.000000</td>\n",
       "      <td>0.000000</td>\n",
       "      <td>1</td>\n",
       "    </tr>\n",
       "  </tbody>\n",
       "</table>\n",
       "</div>"
      ],
      "text/plain": [
       "   Opportunity Number     Supplies Subgroup          Supplies Group  \\\n",
       "0             1641984  Exterior Accessories         Car Accessories   \n",
       "1             1658010  Exterior Accessories         Car Accessories   \n",
       "2             1674737      Motorcycle Parts  Performance & Non-auto   \n",
       "\n",
       "      Region Route To Market  Elapsed Days In Sales Stage Opportunity Result  \\\n",
       "0  Northwest    Fields Sales                           76                Won   \n",
       "1    Pacific        Reseller                           63               Loss   \n",
       "2    Pacific        Reseller                           24                Won   \n",
       "\n",
       "   Sales Stage Change Count  Total Days Identified Through Closing  \\\n",
       "0                        13                                    104   \n",
       "1                         2                                    163   \n",
       "2                         7                                     82   \n",
       "\n",
       "   Total Days Identified Through Qualified  Opportunity Amount USD  \\\n",
       "0                                      101                       0   \n",
       "1                                      163                       0   \n",
       "2                                       82                    7750   \n",
       "\n",
       "   Client Size By Revenue  Client Size By Employee Count  \\\n",
       "0                       5                              5   \n",
       "1                       3                              5   \n",
       "2                       1                              1   \n",
       "\n",
       "   Revenue From Client Past Two Years Competitor Type  \\\n",
       "0                                   0         Unknown   \n",
       "1                                   0         Unknown   \n",
       "2                                   0         Unknown   \n",
       "\n",
       "   Ratio Days Identified To Total Days  Ratio Days Validated To Total Days  \\\n",
       "0                              0.69636                            0.113985   \n",
       "1                              0.00000                            1.000000   \n",
       "2                              1.00000                            0.000000   \n",
       "\n",
       "   Ratio Days Qualified To Total Days  Deal Size Category  \n",
       "0                            0.154215                   1  \n",
       "1                            0.000000                   1  \n",
       "2                            0.000000                   1  "
      ]
     },
     "execution_count": 9,
     "metadata": {},
     "output_type": "execute_result"
    }
   ],
   "source": [
    "data = pd.read_csv('WA_Fn-UseC_-Sales-Win-Loss.csv')\n",
    "data.head(3)"
   ]
  },
  {
   "cell_type": "code",
   "execution_count": 10,
   "metadata": {},
   "outputs": [],
   "source": [
    "# change win loss results in Opportunity Result column to win=1 loss=0\n",
    "data['Opportunity Result'] = data['Opportunity Result'].replace(to_replace=['Won', 'Loss'], value=[1,0])"
   ]
  },
  {
   "cell_type": "code",
   "execution_count": 11,
   "metadata": {},
   "outputs": [],
   "source": [
    "# create the dummy variables for each region\n",
    "region_dummies = pd.get_dummies(data.Region, drop_first=True)\n",
    "supplies_subgroup_dummies = pd.get_dummies(data['Supplies Subgroup'], drop_first=True)\n",
    "supplies_group_dummies = pd.get_dummies(data['Supplies Group'], drop_first=True)\n",
    "route_to_mkt_dummies = pd.get_dummies(data['Route To Market'], drop_first=True)\n",
    "competitor_type_dummies = pd.get_dummies(data['Competitor Type'], drop_first=True)\n",
    "\n",
    "dummy_data1 = data.merge(region_dummies, right_index=True, left_index=True)\n",
    "dummy_data2 = dummy_data1.merge(supplies_subgroup_dummies, right_index=True, left_index=True)\n",
    "dummy_data3 = dummy_data2.merge(supplies_group_dummies, right_index=True, left_index=True)\n",
    "dummy_data4 = dummy_data3.merge(route_to_mkt_dummies, right_index=True, left_index=True)\n",
    "dummy_data5 = dummy_data4.merge(competitor_type_dummies, right_index=True, left_index=True)"
   ]
  },
  {
   "cell_type": "code",
   "execution_count": 17,
   "metadata": {},
   "outputs": [
    {
     "data": {
      "text/plain": [
       "Index(['Opportunity Number', 'Supplies Subgroup', 'Supplies Group', 'Region',\n",
       "       'Route To Market', 'Elapsed Days In Sales Stage', 'Opportunity Result',\n",
       "       'Sales Stage Change Count', 'Total Days Identified Through Closing',\n",
       "       'Total Days Identified Through Qualified', 'Opportunity Amount USD',\n",
       "       'Client Size By Revenue', 'Client Size By Employee Count',\n",
       "       'Revenue From Client Past Two Years', 'Competitor Type',\n",
       "       'Ratio Days Identified To Total Days',\n",
       "       'Ratio Days Validated To Total Days',\n",
       "       'Ratio Days Qualified To Total Days', 'Deal Size Category', 'Midwest',\n",
       "       'Northeast', 'Northwest', 'Pacific', 'Southeast', 'Southwest',\n",
       "       'Car Electronics_x', 'Exterior Accessories', 'Garage & Car Care',\n",
       "       'Interior Accessories', 'Motorcycle Parts', 'Performance Parts',\n",
       "       'Replacement Parts', 'Shelters & RV', 'Tires & Wheels_x',\n",
       "       'Towing & Hitches', 'Car Electronics_y', 'Performance & Non-auto',\n",
       "       'Tires & Wheels_y', 'Other', 'Reseller', 'Telecoverage', 'Telesales',\n",
       "       'None', 'Unknown'],\n",
       "      dtype='object')"
      ]
     },
     "execution_count": 17,
     "metadata": {},
     "output_type": "execute_result"
    }
   ],
   "source": [
    "# uncomment to see new dummy columns\n",
    "#region_dummies.head()\n",
    "#dummy_data5.columns"
   ]
  },
  {
   "cell_type": "markdown",
   "metadata": {},
   "source": [
    "__Drop categorical columns now each their own dummy and drop total days columns to avoid leaky model__"
   ]
  },
  {
   "cell_type": "code",
   "execution_count": 19,
   "metadata": {},
   "outputs": [],
   "source": [
    "final_data = dummy_data5.drop(columns=['Region', \n",
    "                                      'Competitor Type', \n",
    "                                      'Supplies Subgroup', \n",
    "                                      'Supplies Group', \n",
    "                                      'Route To Market',\n",
    "                                     'Opportunity Number',\n",
    "                                     'Elapsed Days In Sales Stage',\n",
    "                                     'Sales Stage Change Count',\n",
    "                                     'Total Days Identified Through Closing',\n",
    "                                     'Total Days Identified Through Qualified',\n",
    "                                     'Ratio Days Identified To Total Days',\n",
    "                                     'Ratio Days Validated To Total Days',\n",
    "                                     'Ratio Days Qualified To Total Days'])"
   ]
  },
  {
   "cell_type": "code",
   "execution_count": 21,
   "metadata": {},
   "outputs": [
    {
     "data": {
      "text/plain": [
       "Index(['Opportunity Result', 'Opportunity Amount USD',\n",
       "       'Client Size By Revenue', 'Client Size By Employee Count',\n",
       "       'Revenue From Client Past Two Years', 'Deal Size Category', 'Midwest',\n",
       "       'Northeast', 'Northwest', 'Pacific', 'Southeast', 'Southwest',\n",
       "       'Car Electronics_x', 'Exterior Accessories', 'Garage & Car Care',\n",
       "       'Interior Accessories', 'Motorcycle Parts', 'Performance Parts',\n",
       "       'Replacement Parts', 'Shelters & RV', 'Tires & Wheels_x',\n",
       "       'Towing & Hitches', 'Car Electronics_y', 'Performance & Non-auto',\n",
       "       'Tires & Wheels_y', 'Other', 'Reseller', 'Telecoverage', 'Telesales',\n",
       "       'None', 'Unknown'],\n",
       "      dtype='object')"
      ]
     },
     "execution_count": 21,
     "metadata": {},
     "output_type": "execute_result"
    }
   ],
   "source": [
    "final_data.columns"
   ]
  },
  {
   "cell_type": "code",
   "execution_count": 62,
   "metadata": {},
   "outputs": [],
   "source": [
    "final_data.to_csv('clean_data.csv', index=False)"
   ]
  },
  {
   "cell_type": "code",
   "execution_count": null,
   "metadata": {},
   "outputs": [],
   "source": []
  },
  {
   "cell_type": "code",
   "execution_count": null,
   "metadata": {},
   "outputs": [],
   "source": []
  },
  {
   "cell_type": "markdown",
   "metadata": {},
   "source": [
    "__Try Models for MVP__\n",
    "K Nearest Neighbors & Logistic Regression\n",
    "\n",
    "__KNN is the MVP__"
   ]
  },
  {
   "cell_type": "code",
   "execution_count": 22,
   "metadata": {},
   "outputs": [
    {
     "name": "stdout",
     "output_type": "stream",
     "text": [
      "The score for kNN is\n",
      "Training:  90.66%\n"
     ]
    }
   ],
   "source": [
    "# KNN on train set\n",
    "X_train, X_test, label_train, label_test = train_test_split(final_data, final_data['Opportunity Result'], \\\n",
    "                                                            test_size=0.3, random_state=42)\n",
    "knn = KNeighborsClassifier(n_neighbors=5)\n",
    "knn.fit(X_train, label_train)\n",
    "print(\"The score for kNN is\")\n",
    "print(\"Training: {:6.2f}%\".format(100*knn.score(X_train, label_train)))"
   ]
  },
  {
   "cell_type": "code",
   "execution_count": 31,
   "metadata": {},
   "outputs": [
    {
     "name": "stdout",
     "output_type": "stream",
     "text": [
      "The score for logistic regression is\n",
      "Training:  77.46%\n"
     ]
    },
    {
     "name": "stderr",
     "output_type": "stream",
     "text": [
      "/Users/michaelweber/anaconda3/lib/python3.6/site-packages/sklearn/linear_model/logistic.py:433: FutureWarning: Default solver will be changed to 'lbfgs' in 0.22. Specify a solver to silence this warning.\n",
      "  FutureWarning)\n"
     ]
    }
   ],
   "source": [
    "# Logistic Regression\n",
    "logit = LogisticRegression()\n",
    "logit.fit(X_train, label_train)\n",
    "print(\"The score for logistic regression is\")\n",
    "print(\"Training: {:6.2f}%\".format(100*logit.score(X_train, label_train)))"
   ]
  },
  {
   "cell_type": "markdown",
   "metadata": {},
   "source": [
    "__More Models Ensemble__"
   ]
  },
  {
   "cell_type": "code",
   "execution_count": 33,
   "metadata": {},
   "outputs": [],
   "source": [
    "X = final_data.drop(columns=['Opportunity Result'])\n",
    "y = final_data['Opportunity Result']\n",
    "\n",
    "X_train, X_test, y_train, y_test = model_selection.train_test_split(\n",
    "    X, y, random_state=123)"
   ]
  },
  {
   "cell_type": "code",
   "execution_count": 38,
   "metadata": {},
   "outputs": [],
   "source": [
    "lr_model = linear_model.LogisticRegression(solver=\"lbfgs\")\n",
    "nb_model = naive_bayes.GaussianNB()\n",
    "knn_model = neighbors.KNeighborsClassifier()\n",
    "svc_model = svm.SVC(probability=True, gamma=\"scale\")\n",
    "rf_model = ensemble.RandomForestClassifier(n_estimators=100)\n",
    "et_model = ensemble.ExtraTreesClassifier(n_estimators=100)\n",
    "ada_model = ensemble.AdaBoostClassifier()\n",
    "\n",
    "models = [\"lr_model\", \"nb_model\", \"knn_model\", \"svc_model\", \"rf_model\", \"et_model\", \"ada_model\"]"
   ]
  },
  {
   "cell_type": "markdown",
   "metadata": {},
   "source": [
    "__RUN ALL THE MODELS **THIS MAY TAKE A WHILE**__"
   ]
  },
  {
   "cell_type": "code",
   "execution_count": 39,
   "metadata": {},
   "outputs": [
    {
     "name": "stdout",
     "output_type": "stream",
     "text": [
      "lr_model score: 0.7735684626031681\n",
      "nb_model score: 0.7735684626031681\n",
      "knn_model score: 0.8083252165889168\n"
     ]
    },
    {
     "ename": "KeyboardInterrupt",
     "evalue": "",
     "output_type": "error",
     "traceback": [
      "\u001b[0;31m---------------------------------------------------------------------------\u001b[0m",
      "\u001b[0;31mKeyboardInterrupt\u001b[0m                         Traceback (most recent call last)",
      "\u001b[0;32m<ipython-input-39-046fce738f42>\u001b[0m in \u001b[0;36m<module>\u001b[0;34m()\u001b[0m\n\u001b[1;32m      1\u001b[0m \u001b[0;32mfor\u001b[0m \u001b[0mmodel_name\u001b[0m \u001b[0;32min\u001b[0m \u001b[0mmodel_names\u001b[0m\u001b[0;34m:\u001b[0m\u001b[0;34m\u001b[0m\u001b[0;34m\u001b[0m\u001b[0m\n\u001b[1;32m      2\u001b[0m     \u001b[0mcurr_model\u001b[0m \u001b[0;34m=\u001b[0m \u001b[0meval\u001b[0m\u001b[0;34m(\u001b[0m\u001b[0mmodel_name\u001b[0m\u001b[0;34m)\u001b[0m\u001b[0;34m\u001b[0m\u001b[0;34m\u001b[0m\u001b[0m\n\u001b[0;32m----> 3\u001b[0;31m     \u001b[0mcurr_model\u001b[0m\u001b[0;34m.\u001b[0m\u001b[0mfit\u001b[0m\u001b[0;34m(\u001b[0m\u001b[0mX_train\u001b[0m\u001b[0;34m,\u001b[0m \u001b[0my_train\u001b[0m\u001b[0;34m)\u001b[0m\u001b[0;34m\u001b[0m\u001b[0;34m\u001b[0m\u001b[0m\n\u001b[0m\u001b[1;32m      4\u001b[0m     \u001b[0mprint\u001b[0m\u001b[0;34m(\u001b[0m\u001b[0;34mf'{model_name} score: {curr_model.score(X_test, y_test)}'\u001b[0m\u001b[0;34m)\u001b[0m\u001b[0;34m\u001b[0m\u001b[0;34m\u001b[0m\u001b[0m\n",
      "\u001b[0;32m~/anaconda3/lib/python3.6/site-packages/sklearn/svm/base.py\u001b[0m in \u001b[0;36mfit\u001b[0;34m(self, X, y, sample_weight)\u001b[0m\n\u001b[1;32m    210\u001b[0m \u001b[0;34m\u001b[0m\u001b[0m\n\u001b[1;32m    211\u001b[0m         \u001b[0mseed\u001b[0m \u001b[0;34m=\u001b[0m \u001b[0mrnd\u001b[0m\u001b[0;34m.\u001b[0m\u001b[0mrandint\u001b[0m\u001b[0;34m(\u001b[0m\u001b[0mnp\u001b[0m\u001b[0;34m.\u001b[0m\u001b[0miinfo\u001b[0m\u001b[0;34m(\u001b[0m\u001b[0;34m'i'\u001b[0m\u001b[0;34m)\u001b[0m\u001b[0;34m.\u001b[0m\u001b[0mmax\u001b[0m\u001b[0;34m)\u001b[0m\u001b[0;34m\u001b[0m\u001b[0;34m\u001b[0m\u001b[0m\n\u001b[0;32m--> 212\u001b[0;31m         \u001b[0mfit\u001b[0m\u001b[0;34m(\u001b[0m\u001b[0mX\u001b[0m\u001b[0;34m,\u001b[0m \u001b[0my\u001b[0m\u001b[0;34m,\u001b[0m \u001b[0msample_weight\u001b[0m\u001b[0;34m,\u001b[0m \u001b[0msolver_type\u001b[0m\u001b[0;34m,\u001b[0m \u001b[0mkernel\u001b[0m\u001b[0;34m,\u001b[0m \u001b[0mrandom_seed\u001b[0m\u001b[0;34m=\u001b[0m\u001b[0mseed\u001b[0m\u001b[0;34m)\u001b[0m\u001b[0;34m\u001b[0m\u001b[0;34m\u001b[0m\u001b[0m\n\u001b[0m\u001b[1;32m    213\u001b[0m         \u001b[0;31m# see comment on the other call to np.iinfo in this file\u001b[0m\u001b[0;34m\u001b[0m\u001b[0;34m\u001b[0m\u001b[0;34m\u001b[0m\u001b[0m\n\u001b[1;32m    214\u001b[0m \u001b[0;34m\u001b[0m\u001b[0m\n",
      "\u001b[0;32m~/anaconda3/lib/python3.6/site-packages/sklearn/svm/base.py\u001b[0m in \u001b[0;36m_dense_fit\u001b[0;34m(self, X, y, sample_weight, solver_type, kernel, random_seed)\u001b[0m\n\u001b[1;32m    269\u001b[0m                 \u001b[0mcache_size\u001b[0m\u001b[0;34m=\u001b[0m\u001b[0mself\u001b[0m\u001b[0;34m.\u001b[0m\u001b[0mcache_size\u001b[0m\u001b[0;34m,\u001b[0m \u001b[0mcoef0\u001b[0m\u001b[0;34m=\u001b[0m\u001b[0mself\u001b[0m\u001b[0;34m.\u001b[0m\u001b[0mcoef0\u001b[0m\u001b[0;34m,\u001b[0m\u001b[0;34m\u001b[0m\u001b[0;34m\u001b[0m\u001b[0m\n\u001b[1;32m    270\u001b[0m                 \u001b[0mgamma\u001b[0m\u001b[0;34m=\u001b[0m\u001b[0mself\u001b[0m\u001b[0;34m.\u001b[0m\u001b[0m_gamma\u001b[0m\u001b[0;34m,\u001b[0m \u001b[0mepsilon\u001b[0m\u001b[0;34m=\u001b[0m\u001b[0mself\u001b[0m\u001b[0;34m.\u001b[0m\u001b[0mepsilon\u001b[0m\u001b[0;34m,\u001b[0m\u001b[0;34m\u001b[0m\u001b[0;34m\u001b[0m\u001b[0m\n\u001b[0;32m--> 271\u001b[0;31m                 max_iter=self.max_iter, random_seed=random_seed)\n\u001b[0m\u001b[1;32m    272\u001b[0m \u001b[0;34m\u001b[0m\u001b[0m\n\u001b[1;32m    273\u001b[0m         \u001b[0mself\u001b[0m\u001b[0;34m.\u001b[0m\u001b[0m_warn_from_fit_status\u001b[0m\u001b[0;34m(\u001b[0m\u001b[0;34m)\u001b[0m\u001b[0;34m\u001b[0m\u001b[0;34m\u001b[0m\u001b[0m\n",
      "\u001b[0;31mKeyboardInterrupt\u001b[0m: "
     ]
    }
   ],
   "source": [
    "# I tried them all but commented out for ease \n",
    "\n",
    "# for model_name in model_names:\n",
    "#     curr_model = eval(model_name)\n",
    "#     curr_model.fit(X_train, y_train)\n",
    "#     print(f'{model_name} score: {curr_model.score(X_test, y_test)}')"
   ]
  },
  {
   "cell_type": "markdown",
   "metadata": {},
   "source": [
    "__Chose XGBoost Classifier after research__"
   ]
  },
  {
   "cell_type": "markdown",
   "metadata": {},
   "source": [
    "__Handling Class Imbalance with ADASYN__"
   ]
  },
  {
   "cell_type": "code",
   "execution_count": 41,
   "metadata": {},
   "outputs": [],
   "source": [
    "from imblearn.over_sampling import ADASYN\n",
    "X = final_data.drop(columns=['Opportunity Result']).loc[:]\n",
    "y = final_data['Opportunity Result']\n",
    "X_train, X_test, y_train, y_test = train_test_split(X, y, test_size=0.3, random_state=2, stratify=y)\n",
    "\n",
    "X_adasyn, y_adasyn = ADASYN(random_state=42).fit_sample(X_train,y_train)"
   ]
  },
  {
   "cell_type": "code",
   "execution_count": 44,
   "metadata": {},
   "outputs": [],
   "source": [
    "clf_adasyn = XGBClassifier().fit(X_adasyn, y_adasyn)\n",
    "y_pred_adasyn = clf_adasyn.predict(X_adasyn)"
   ]
  },
  {
   "cell_type": "code",
   "execution_count": 47,
   "metadata": {},
   "outputs": [
    {
     "name": "stdout",
     "output_type": "stream",
     "text": [
      "ADASYN with XGBoost Classifier Model Accuracy: 78.95\n"
     ]
    }
   ],
   "source": [
    "accuracy = accuracy_score(y_adasyn, y_pred_adasyn)\n",
    "print(f'ADASYN with XGBoost Classifier Model Accuracy: {round(accuracy, 4)*100}')"
   ]
  },
  {
   "cell_type": "code",
   "execution_count": 48,
   "metadata": {},
   "outputs": [
    {
     "name": "stdout",
     "output_type": "stream",
     "text": [
      "XG Boost Classifier with SMOTE data\n",
      "Precision: 0.8082,   Recall: 0.7600\n"
     ]
    }
   ],
   "source": [
    "print(\"XG Boost Classifier with ADASYN data\")\n",
    "print(\"Precision: {:6.4f},   Recall: {:6.4f}\".format(precision_score(y_adasyn, y_pred_adasyn), \n",
    "                                                     recall_score(y_adasyn, y_pred_adasyn)))"
   ]
  },
  {
   "cell_type": "code",
   "execution_count": 49,
   "metadata": {},
   "outputs": [
    {
     "data": {
      "image/png": "[encoded data removed]",
      "text/plain": [
       "<Figure size 480x320 with 1 Axes>"
      ]
     },
     "metadata": {},
     "output_type": "display_data"
    }
   ],
   "source": [
    "precision_curve, recall_curve, threshold_curve = precision_recall_curve(y_adasyn, clf_adasyn.predict_proba(X_adasyn)[:,1] )\n",
    "\n",
    "plt.figure(dpi=80)\n",
    "plt.plot(threshold_curve, precision_curve[1:],label='precision')\n",
    "plt.plot(threshold_curve, recall_curve[1:], label='recall')\n",
    "plt.legend(loc='lower left')\n",
    "plt.xlabel('Threshold (above this probability, label Loss)');\n",
    "plt.title('Precision and Recall Curves');"
   ]
  },
  {
   "cell_type": "code",
   "execution_count": 52,
   "metadata": {},
   "outputs": [],
   "source": [
    "fpr, tpr, thresholds = roc_curve(y_adasyn, clf_adasyn.predict_proba(X_adasyn)[:,1]) "
   ]
  },
  {
   "cell_type": "code",
   "execution_count": 53,
   "metadata": {},
   "outputs": [
    {
     "name": "stdout",
     "output_type": "stream",
     "text": [
      "ROC AUC score =  0.8695045676819161\n"
     ]
    },
    {
     "data": {
      "image/png": "[encoded data removed]",
      "text/plain": [
       "<Figure size 432x288 with 1 Axes>"
      ]
     },
     "metadata": {},
     "output_type": "display_data"
    }
   ],
   "source": [
    "plt.plot(fpr, tpr,lw=2)\n",
    "plt.plot([0,1],[0,1],c='violet',ls='--')\n",
    "plt.xlim([-0.05,1.05])\n",
    "plt.ylim([-0.05,1.05])\n",
    "\n",
    "\n",
    "plt.xlabel('False positive rate')\n",
    "plt.ylabel('True positive rate')\n",
    "plt.title('ROC curve');\n",
    "print(\"ROC AUC score = \", roc_auc_score(y_adasyn, clf_adasyn.predict_proba(X_adasyn)[:,1]))"
   ]
  },
  {
   "cell_type": "markdown",
   "metadata": {},
   "source": [
    "__Tuned the Model Parameters__"
   ]
  },
  {
   "cell_type": "code",
   "execution_count": 54,
   "metadata": {},
   "outputs": [],
   "source": [
    "xgb_clf_adasyn = XGBClassifier(max_depth=8, learning_rate=.1, n_estimators=100).fit(X_adasyn, y_adasyn)"
   ]
  },
  {
   "cell_type": "code",
   "execution_count": 56,
   "metadata": {},
   "outputs": [
    {
     "name": "stdout",
     "output_type": "stream",
     "text": [
      "ADASYN with XGBoost Classifier Model Accuracy: 78.95\n",
      "XG Boost Classifier with ADASYN data\n",
      "Precision: 0.8082,   Recall: 0.7600\n"
     ]
    }
   ],
   "source": [
    "y_pred_adasyn = clf_adasyn.predict(X_adasyn)\n",
    "accuracy = accuracy_score(y_adasyn, y_pred_adasyn)\n",
    "print(f'ADASYN with XGBoost Classifier Model Accuracy: {round(accuracy, 4)*100}')\n",
    "print(\"XG Boost Classifier with ADASYN data\")\n",
    "print(\"Precision: {:6.4f},   Recall: {:6.4f}\".format(precision_score(y_adasyn, y_pred_adasyn), \n",
    "                                                     recall_score(y_adasyn, y_pred_adasyn)))"
   ]
  },
  {
   "cell_type": "markdown",
   "metadata": {},
   "source": [
    "__Test Set Scores__"
   ]
  },
  {
   "cell_type": "code",
   "execution_count": 58,
   "metadata": {},
   "outputs": [],
   "source": [
    "xgb_clf_test = XGBClassifier(max_depth=5, \n",
    "                                learning_rate=.1, \n",
    "                                n_estimators=100, \n",
    "                                gamma=0, \n",
    "                                min_child_weight=1, \n",
    "                                subsample=0.8, \n",
    "                                objective='binary:logistic').fit(X_test, y_test)\n"
   ]
  },
  {
   "cell_type": "code",
   "execution_count": 60,
   "metadata": {},
   "outputs": [
    {
     "name": "stdout",
     "output_type": "stream",
     "text": [
      "ADASYN with XGBoost Classifier Model Accuracy: 83.72\n",
      "XG Boost Classifier with TEST data\n",
      "Precision: 0.7986,   Recall: 0.3735\n"
     ]
    }
   ],
   "source": [
    "y_pred_test = xgb_clf_test.predict(X_test)\n",
    "accuracy = accuracy_score(y_test, y_pred_test)\n",
    "print(f'ADASYN with XGBoost Classifier Model Accuracy: {round(accuracy, 4)*100}')\n",
    "print(\"XG Boost Classifier with TEST data\")\n",
    "print(\"Precision: {:6.4f},   Recall: {:6.4f}\".format(precision_score(y_test, y_pred_test), \n",
    "                                                     recall_score(y_test, y_pred_test)))"
   ]
  },
  {
   "cell_type": "code",
   "execution_count": null,
   "metadata": {},
   "outputs": [],
   "source": [
    "# import pickle\n",
    "\n",
    "# with open(\"/Users/michaelweber/Desktop/DS/Metis/Project McNulty/Project_3/flask_app/clf_adasyn.pkl\", \"wb\") as f:\n",
    "#     pickle.dump(clf_adasyn, f)"
   ]
  },
  {
   "cell_type": "markdown",
   "metadata": {},
   "source": [
    "__CatBoost as well__"
   ]
  },
  {
   "cell_type": "code",
   "execution_count": 61,
   "metadata": {},
   "outputs": [],
   "source": [
    "from catboost import CatBoostClassifier, Pool"
   ]
  },
  {
   "cell_type": "code",
   "execution_count": null,
   "metadata": {},
   "outputs": [],
   "source": [
    "df = pd.read_csv('WA_Fn-UseC_-Sales-Win-Loss.csv')\n",
    "smaller_df = df.drop(columns=['Opportunity Number', 'Elapsed Days In Sales Stage', 'Sales Stage Change Count', 'Total Days Identified Through Closing', 'Total Days Identified Through Qualified', 'Ratio Days Identified To Total Days', 'Ratio Days Validated To Total Days', 'Ratio Days Qualified To Total Days'])\n",
    "# change win loss results in Opportunity Result column to win=1 loss=0\n",
    "smaller_df['Opportunity Result'] = smaller_df['Opportunity Result'].replace(to_replace=['Won', 'Loss'], value=[1,0])"
   ]
  },
  {
   "cell_type": "code",
   "execution_count": null,
   "metadata": {},
   "outputs": [],
   "source": [
    "X = smaller_df.drop(columns=['Opportunity Result']).loc[:]\n",
    "y = smaller_df['Opportunity Result']\n",
    "X_train, X_test, y_train, y_test = train_test_split(X, y, test_size=0.3, random_state=2, stratify=y)"
   ]
  },
  {
   "cell_type": "code",
   "execution_count": null,
   "metadata": {},
   "outputs": [],
   "source": [
    "cat_features_index = [0,1,2,3,4,5,6,7,8,9]\n",
    "\n",
    "def auc(m, train, test): \n",
    "    return (metrics.roc_auc_score(y_train,m.predict_proba(train)[:,1]),\n",
    "                            metrics.roc_auc_score(y_test,m.predict_proba(test)[:,1]))\n",
    "\n",
    "params = {'depth': [4, 7, 10],\n",
    "          'learning_rate' : [0.03, 0.1, 0.15],\n",
    "         'l2_leaf_reg': [1,4,9],\n",
    "         'iterations': [300]}"
   ]
  },
  {
   "cell_type": "code",
   "execution_count": null,
   "metadata": {},
   "outputs": [],
   "source": [
    "clf = CatBoostClassifier(eval_metric=\"AUC\",one_hot_max_size=9, \\\n",
    "                            depth=10, iterations= 200, l2_leaf_reg= 9, learning_rate= 0.15)\n",
    "model = clf.fit(X_train,y_train, cat_features= cat_features_index)"
   ]
  },
  {
   "cell_type": "code",
   "execution_count": null,
   "metadata": {},
   "outputs": [],
   "source": [
    "y_pred_train = clf.predict(X_train)\n",
    "accuracy = accuracy_score(y_train, y_pred_train)\n",
    "print(f'Model Accuracy: {round(accuracy, 4)*100}')\n",
    "print(\"CatBoost Classifier\")\n",
    "print(\"Precision: {:6.4f},   Recall: {:6.4f}\".format(precision_score(y_train, y_pred_train), \n",
    "                                                     recall_score(y_train, y_pred_train)))"
   ]
  }
 ],
 "metadata": {
  "kernelspec": {
   "display_name": "Python 3",
   "language": "python",
   "name": "python3"
  },
  "language_info": {
   "codemirror_mode": {
    "name": "ipython",
    "version": 3
   },
   "file_extension": ".py",
   "mimetype": "text/x-python",
   "name": "python",
   "nbconvert_exporter": "python",
   "pygments_lexer": "ipython3",
   "version": "3.6.8"
  }
 },
 "nbformat": 4,
 "nbformat_minor": 2
}
